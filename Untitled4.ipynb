{
 "cells": [
  {
   "cell_type": "code",
   "execution_count": null,
   "id": "3f0a7f4d-09a8-4c00-ae74-5f34310c2f84",
   "metadata": {},
   "outputs": [],
   "source": [
    "pip install google-generativeai\n",
    " \n",
    "Next, we configure it using the API key that we generated earlier.\n",
    " \n",
    "import google.generativeai as palm\n",
    "palm.configure(api_key=API_KEY)\n",
    " \n",
    "To list the available models, we write the below code:\n",
    " \n",
    "models = [model for model in palm.list_models()]"
   ]
  },
  {
   "cell_type": "code",
   "execution_count": 4,
   "id": "d29b1eeb-4474-40c7-b1a4-a256d5c4b74b",
   "metadata": {},
   "outputs": [
    {
     "name": "stdout",
     "output_type": "stream",
     "text": [
      "Collecting virtualenv\n",
      "  Obtaining dependency information for virtualenv from https://files.pythonhosted.org/packages/83/22/54b1180756d2d6194bcafb7425d437c3034c4bff92129c3e1e633079e2c4/virtualenv-20.25.0-py3-none-any.whl.metadata\n",
      "  Downloading virtualenv-20.25.0-py3-none-any.whl.metadata (4.5 kB)\n",
      "Collecting distlib<1,>=0.3.7 (from virtualenv)\n",
      "  Obtaining dependency information for distlib<1,>=0.3.7 from https://files.pythonhosted.org/packages/8e/41/9307e4f5f9976bc8b7fea0b66367734e8faf3ec84bc0d412d8cfabbb66cd/distlib-0.3.8-py2.py3-none-any.whl.metadata\n",
      "  Downloading distlib-0.3.8-py2.py3-none-any.whl.metadata (5.1 kB)\n",
      "Requirement already satisfied: filelock<4,>=3.12.2 in c:\\users\\yogen\\anaconda3\\lib\\site-packages (from virtualenv) (3.13.1)\n",
      "Requirement already satisfied: platformdirs<5,>=3.9.1 in c:\\users\\yogen\\anaconda3\\lib\\site-packages (from virtualenv) (3.10.0)\n",
      "Downloading virtualenv-20.25.0-py3-none-any.whl (3.8 MB)\n",
      "   ---------------------------------------- 0.0/3.8 MB ? eta -:--:--\n",
      "   ---------------------------------------- 0.0/3.8 MB 660.6 kB/s eta 0:00:06\n",
      "   -- ------------------------------------- 0.2/3.8 MB 2.4 MB/s eta 0:00:02\n",
      "   ---- ----------------------------------- 0.4/3.8 MB 3.3 MB/s eta 0:00:02\n",
      "   -------- ------------------------------- 0.8/3.8 MB 4.9 MB/s eta 0:00:01\n",
      "   ------------- -------------------------- 1.3/3.8 MB 6.4 MB/s eta 0:00:01\n",
      "   ---------------- ----------------------- 1.5/3.8 MB 5.8 MB/s eta 0:00:01\n",
      "   ------------------ --------------------- 1.8/3.8 MB 6.0 MB/s eta 0:00:01\n",
      "   ------------------------ --------------- 2.3/3.8 MB 6.7 MB/s eta 0:00:01\n",
      "   -------------------------- ------------- 2.5/3.8 MB 6.3 MB/s eta 0:00:01\n",
      "   ------------------------------ --------- 2.8/3.8 MB 6.5 MB/s eta 0:00:01\n",
      "   ---------------------------------- ----- 3.3/3.8 MB 6.6 MB/s eta 0:00:01\n",
      "   ---------------------------------------  3.8/3.8 MB 7.1 MB/s eta 0:00:01\n",
      "   ---------------------------------------- 3.8/3.8 MB 6.7 MB/s eta 0:00:00\n",
      "Downloading distlib-0.3.8-py2.py3-none-any.whl (468 kB)\n",
      "   ---------------------------------------- 0.0/468.9 kB ? eta -:--:--\n",
      "   ---------------------------------------  460.8/468.9 kB 9.6 MB/s eta 0:00:01\n",
      "   ---------------------------------------- 468.9/468.9 kB 9.8 MB/s eta 0:00:00\n",
      "Installing collected packages: distlib, virtualenv\n",
      "Successfully installed distlib-0.3.8 virtualenv-20.25.0\n",
      "Note: you may need to restart the kernel to use updated packages.\n"
     ]
    }
   ],
   "source": [
    "%pip install --upgrade virtualenv"
   ]
  },
  {
   "cell_type": "code",
   "execution_count": 6,
   "id": "b20efff3-bd71-4f9f-ae5f-bd5f623b416b",
   "metadata": {},
   "outputs": [
    {
     "name": "stdout",
     "output_type": "stream",
     "text": [
      "env: MY_VAR=\"abc\"\n"
     ]
    }
   ],
   "source": [
    "%env MY_VAR=\"abc\""
   ]
  },
  {
   "cell_type": "code",
   "execution_count": 3,
   "id": "09d3582f-0fbc-4d6e-99b4-5ae42b1a07c7",
   "metadata": {},
   "outputs": [
    {
     "ename": "SyntaxError",
     "evalue": "invalid syntax (1410458708.py, line 1)",
     "output_type": "error",
     "traceback": [
      "\u001b[1;36m  Cell \u001b[1;32mIn[3], line 1\u001b[1;36m\u001b[0m\n\u001b[1;33m    virtualenv virtualenv01\u001b[0m\n\u001b[1;37m               ^\u001b[0m\n\u001b[1;31mSyntaxError\u001b[0m\u001b[1;31m:\u001b[0m invalid syntax\n"
     ]
    }
   ],
   "source": [
    "virtualenv virtualenv01"
   ]
  },
  {
   "cell_type": "code",
   "execution_count": 1,
   "id": "7d548595-8b65-4291-a9de-de76bd0a38ec",
   "metadata": {},
   "outputs": [],
   "source": [
    "import os\n",
    "\n",
    "# Set environment variable\n",
    "os.environ['MY_VARIABLE'] = 'my_value'\n"
   ]
  },
  {
   "cell_type": "code",
   "execution_count": 8,
   "id": "5f6bb076-4d43-46e2-a8a5-159a58a63ab1",
   "metadata": {},
   "outputs": [
    {
     "name": "stdout",
     "output_type": "stream",
     "text": [
      "Requirement already satisfied: python-dotenv in c:\\users\\yogen\\anaconda3\\lib\\site-packages (0.21.0)\n",
      "Note: you may need to restart the kernel to use updated packages.\n"
     ]
    }
   ],
   "source": [
    "%pip install python-dotenv"
   ]
  },
  {
   "cell_type": "code",
   "execution_count": 2,
   "id": "c88b907d-9d8e-454d-b92c-3cf0f79e88b0",
   "metadata": {},
   "outputs": [],
   "source": [
    "from dotenv import load_dotenv\n",
    "import os\n",
    "\n",
    "load_dotenv()\n",
    "\n",
    "# Access the environment variables from the .env file\n",
    "database_url = os.environ.get('DATABASE_URL')\n",
    "api_key = os.environ.get('API_KEY')"
   ]
  },
  {
   "cell_type": "code",
   "execution_count": 3,
   "id": "51c2a26a-e11a-4f68-a039-26892d342a62",
   "metadata": {},
   "outputs": [],
   "source": [
    "api_key"
   ]
  },
  {
   "cell_type": "code",
   "execution_count": 12,
   "id": "2974c9ae-5f58-429b-aa5d-bd7cd29724d3",
   "metadata": {},
   "outputs": [
    {
     "name": "stdout",
     "output_type": "stream",
     "text": [
      "None\n"
     ]
    }
   ],
   "source": [
    "print( os.environ.get('DATABASE_URL'))"
   ]
  },
  {
   "cell_type": "code",
   "execution_count": 12,
   "id": "c4502b31-10f2-42f3-864a-6deb8edf77a6",
   "metadata": {},
   "outputs": [
    {
     "name": "stdout",
     "output_type": "stream",
     "text": [
      "env: MYYOG=1234\n"
     ]
    }
   ],
   "source": [
    "%env MYYOG=1234"
   ]
  },
  {
   "cell_type": "code",
   "execution_count": null,
   "id": "8ed147c2-584a-4d33-a6fa-a0bcabcfb4e9",
   "metadata": {},
   "outputs": [],
   "source": []
  }
 ],
 "metadata": {
  "kernelspec": {
   "display_name": "Python (Langchain V1)",
   "language": "python",
   "name": "langchainv1"
  },
  "language_info": {
   "codemirror_mode": {
    "name": "ipython",
    "version": 3
   },
   "file_extension": ".py",
   "mimetype": "text/x-python",
   "name": "python",
   "nbconvert_exporter": "python",
   "pygments_lexer": "ipython3",
   "version": "3.11.5"
  }
 },
 "nbformat": 4,
 "nbformat_minor": 5
}
